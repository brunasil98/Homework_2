{
 "cells": [
  {
   "cell_type": "code",
   "execution_count": 15,
   "metadata": {},
   "outputs": [],
   "source": [
    "# Import the 'os' and 'csv' libraries\n",
    "import os\n",
    "import csv"
   ]
  },
  {
   "cell_type": "code",
   "execution_count": 17,
   "metadata": {},
   "outputs": [],
   "source": [
    "# Set path for importing our CSV file\n",
    "csvpath= os.path.join('..','Resources','yahoo_stock.csv')\n"
   ]
  },
  {
   "cell_type": "code",
   "execution_count": 24,
   "metadata": {},
   "outputs": [
    {
     "name": "stdout",
     "output_type": "stream",
     "text": [
      "['3/13/2020', '2711.330078', '2492.370117', '2569.98999', '2711.02002', '8258670000', '2711.02002']\n"
     ]
    }
   ],
   "source": [
    "# Open a connection to the comma-delimited csv file \n",
    "with open (csvpath) as csvfile:\n",
    "\n",
    "    # Read in the CSV file using csv.DictReader() class\n",
    "    csvreader = csv.reader(csvfile, delimiter=',')\n",
    "\n",
    "    next(csvreader)\n",
    "  \n",
    "    # Create a variable to save our print row and greatest daily percent change\n",
    "    # Iterate through each row\n",
    "    max_pct = 0\n",
    "    print_row = {}\n",
    "    \n",
    "    for row in csvreader:\n",
    "        #print(row)\n",
    "        \n",
    "        #For each row, calculate the daily percent change (`Closing price-4` - `Opening price-3` / `Opening Price`) * 10\n",
    "        closing_price = float(row[4])\n",
    "        opening_price = float(row[3])\n",
    "        avg_change = round((((closing_price - opening_price)/opening_price) * 100),2)\n",
    "        #print(avg_change)\n",
    "        \n",
    "        # Check if the absolute daily percent change is greater than the previous max\n",
    "        if abs(avg_change) > max_pct:\n",
    "            max_pct = avg_change\n",
    "            print_row = row\n",
    "            #print (max_pact)      \n",
    "            # If true, store new greatest daily percent change and print row\n",
    "            \n",
    "    # Print out the date, stock high, stock low, volume and percent change for the day with the greatest percent change\n",
    "    print(print_row)"
   ]
  },
  {
   "cell_type": "code",
   "execution_count": 2,
   "metadata": {},
   "outputs": [
    {
     "ename": "NameError",
     "evalue": "name 'printrow' is not defined",
     "output_type": "error",
     "traceback": [
      "\u001b[1;31m---------------------------------------------------------------------------\u001b[0m",
      "\u001b[1;31mNameError\u001b[0m                                 Traceback (most recent call last)",
      "\u001b[1;32m<ipython-input-2-abbdd6de37bb>\u001b[0m in \u001b[0;36m<module>\u001b[1;34m\u001b[0m\n\u001b[1;32m----> 1\u001b[1;33m \u001b[0mprintrow\u001b[0m\u001b[1;33m(\u001b[0m\u001b[1;33m)\u001b[0m\u001b[1;33m\u001b[0m\u001b[1;33m\u001b[0m\u001b[0m\n\u001b[0m",
      "\u001b[1;31mNameError\u001b[0m: name 'printrow' is not defined"
     ]
    }
   ],
   "source": []
  },
  {
   "cell_type": "code",
   "execution_count": null,
   "metadata": {},
   "outputs": [],
   "source": []
  }
 ],
 "metadata": {
  "kernelspec": {
   "display_name": "Python 3",
   "language": "python",
   "name": "python3"
  },
  "language_info": {
   "codemirror_mode": {
    "name": "ipython",
    "version": 3
   },
   "file_extension": ".py",
   "mimetype": "text/x-python",
   "name": "python",
   "nbconvert_exporter": "python",
   "pygments_lexer": "ipython3",
   "version": "3.8.3"
  }
 },
 "nbformat": 4,
 "nbformat_minor": 4
}
